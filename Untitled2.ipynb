{
  "nbformat": 4,
  "nbformat_minor": 0,
  "metadata": {
    "colab": {
      "provenance": [],
      "authorship_tag": "ABX9TyNwhto03TR0vwWxdQZ19rLm",
      "include_colab_link": true
    },
    "kernelspec": {
      "name": "python3",
      "display_name": "Python 3"
    },
    "language_info": {
      "name": "python"
    }
  },
  "cells": [
    {
      "cell_type": "markdown",
      "metadata": {
        "id": "view-in-github",
        "colab_type": "text"
      },
      "source": [
        "<a href=\"https://colab.research.google.com/github/KorvinColt/Seminar_1_hw_c/blob/master/Untitled2.ipynb\" target=\"_parent\"><img src=\"https://colab.research.google.com/assets/colab-badge.svg\" alt=\"Open In Colab\"/></a>"
      ]
    },
    {
      "cell_type": "code",
      "execution_count": 4,
      "metadata": {
        "colab": {
          "base_uri": "https://localhost:8080/"
        },
        "id": "ZBqc2vHreJ2T",
        "outputId": "5a8013fb-5c4c-4130-f5e7-c846fb12e94f"
      },
      "outputs": [
        {
          "output_type": "stream",
          "name": "stdout",
          "text": [
            "   whoAmI\n",
            "0   human\n",
            "1   human\n",
            "2   human\n",
            "3   robot\n",
            "4   human\n",
            "5   robot\n",
            "6   robot\n",
            "7   human\n",
            "8   human\n",
            "9   robot\n",
            "10  robot\n",
            "11  robot\n",
            "12  human\n",
            "13  human\n",
            "14  human\n",
            "15  robot\n",
            "16  robot\n",
            "17  robot\n",
            "18  robot\n",
            "19  human\n",
            "    human  robot\n",
            "0       1      0\n",
            "1       1      0\n",
            "2       1      0\n",
            "3       0      1\n",
            "4       1      0\n",
            "5       0      1\n",
            "6       0      1\n",
            "7       1      0\n",
            "8       1      0\n",
            "9       0      1\n",
            "10      0      1\n",
            "11      0      1\n",
            "12      1      0\n",
            "13      1      0\n",
            "14      1      0\n",
            "15      0      1\n",
            "16      0      1\n",
            "17      0      1\n",
            "18      0      1\n",
            "19      1      0\n"
          ]
        }
      ],
      "source": [
        "# Задача 44: В ячейке ниже представлен код генерирующий DataFrame, которая состоит всего из 1 столбца.\n",
        "# Ваша задача перевести его в one hot вид. Сможете ли вы это сделать без get_dummies?\n",
        "\n",
        "# import pandas as pd\n",
        "# import numpy as np\n",
        "# import random\n",
        "\n",
        "# lst = ['robot'] * 10\n",
        "# lst += ['human'] * 10\n",
        "# random.shuffle(lst)\n",
        "# data = pd.DataFrame({'whoAmI': lst})\n",
        "# print(data)\n",
        "\n",
        "\n",
        "data['tmp'] = 1\n",
        "data.set_index([data.index, 'whoAmI'], inplace=True)\n",
        "data = data.unstack(level=-1, fill_value = 0).astype(int)\n",
        "data.columns = data.columns.droplevel()\n",
        "data.columns.name = None\n",
        "print(data)"
      ]
    }
  ]
}